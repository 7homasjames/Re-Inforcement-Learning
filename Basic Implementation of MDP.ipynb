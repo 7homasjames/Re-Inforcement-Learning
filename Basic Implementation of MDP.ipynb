{
 "cells": [
  {
   "cell_type": "markdown",
   "id": "8bf69950",
   "metadata": {},
   "source": [
    "### Basic Implementation of MDP"
   ]
  },
  {
   "cell_type": "markdown",
   "id": "a59dc3e8",
   "metadata": {},
   "source": [
    "#### Import Packages"
   ]
  },
  {
   "cell_type": "code",
   "execution_count": 1,
   "id": "93d90c45",
   "metadata": {},
   "outputs": [],
   "source": [
    "import numpy as np"
   ]
  },
  {
   "cell_type": "code",
   "execution_count": 4,
   "id": "939b8c19",
   "metadata": {},
   "outputs": [],
   "source": [
    "class MDP:\n",
    "    def __init__(self,S,A,P,R,gamma):\n",
    "        self.S=S\n",
    "        self.A=A\n",
    "        self.P=P\n",
    "        self.R=R\n",
    "        self.gamma=gamma\n",
    "    def value_iteration(self,tol=1e-6):\n",
    "        v=np.zeros(len(self.S))\n",
    "        \n",
    "        while True:\n",
    "            v_new=np.max(np.sum(self.P*(self.R+self.gamma*v),axis=2),axis=0)\n",
    "            if np.max(np.abs(v_new-v))<tol:\n",
    "                break\n",
    "            v=v_new\n",
    "        return v"
   ]
  },
  {
   "cell_type": "code",
   "execution_count": 5,
   "id": "ab0778b9",
   "metadata": {},
   "outputs": [
    {
     "name": "stdout",
     "output_type": "stream",
     "text": [
      "Optimal value function: [1.74310991 1.74310991 0.82567872]\n"
     ]
    }
   ],
   "source": [
    "# Define MDP parameters\n",
    "S = [0, 1, 2]  # State space\n",
    "A = [0, 1]  # Action space\n",
    "P = np.array([[[0.8, 0.2, 0.0], [0.1, 0.9, 0.0], [0.1, 0.0, 0.9]],\n",
    "              [[0.9, 0.1, 0.0], [0.0, 0.0, 1.0], [0.0, 0.0, 1.0]],\n",
    "              [[0.0, 0.0, 1.0], [0.0, 0.0, 1.0], [0.0, 0.0, 1.0]]])  # Transition probabilities\n",
    "R = np.array([[0.0, 0.0, 1.0], [0.0, 0.0, 1.0], [0.0, 0.0, 0.0]])  # Rewards\n",
    "gamma = 0.9  # Discount factor\n",
    "\n",
    "# Solve MDP using value iteration\n",
    "mdp = MDP(S, A, P, R, gamma)\n",
    "v = mdp.value_iteration()\n",
    "\n",
    "# Print optimal value function\n",
    "print(\"Optimal value function:\", v)\n"
   ]
  }
 ],
 "metadata": {
  "kernelspec": {
   "display_name": "Python 3 (ipykernel)",
   "language": "python",
   "name": "python3"
  },
  "language_info": {
   "codemirror_mode": {
    "name": "ipython",
    "version": 3
   },
   "file_extension": ".py",
   "mimetype": "text/x-python",
   "name": "python",
   "nbconvert_exporter": "python",
   "pygments_lexer": "ipython3",
   "version": "3.9.12"
  }
 },
 "nbformat": 4,
 "nbformat_minor": 5
}
