{
 "cells": [
  {
   "cell_type": "markdown",
   "id": "50cd448b",
   "metadata": {},
   "source": [
    "### Importing Packages"
   ]
  },
  {
   "cell_type": "code",
   "execution_count": 5,
   "id": "94126f12",
   "metadata": {},
   "outputs": [],
   "source": [
    "import random\n",
    "import numpy as np"
   ]
  },
  {
   "cell_type": "markdown",
   "id": "8a6883c9",
   "metadata": {},
   "source": [
    "### Define Enviornment"
   ]
  },
  {
   "cell_type": "code",
   "execution_count": 19,
   "id": "cd1741d4",
   "metadata": {},
   "outputs": [],
   "source": [
    "class enviornment:\n",
    "    def __init__(self):\n",
    "        self.staten=random.randint(1,10)\n",
    "    def step(self,action):\n",
    "        if action==\"up\":\n",
    "            self.state+=1\n",
    "        elif action==\"down\":\n",
    "            self.state-=1\n",
    "        reward=0\n",
    "        if state==10:\n",
    "            reward+=1\n",
    "            done=True\n",
    "        elif state==0:\n",
    "            reward-=1\n",
    "            done=True\n",
    "        else:\n",
    "            done=False\n",
    "        return self.state,reward,done"
   ]
  },
  {
   "cell_type": "markdown",
   "id": "351d59e4",
   "metadata": {},
   "source": [
    "### Define Agent"
   ]
  },
  {
   "cell_type": "code",
   "execution_count": 20,
   "id": "8a02de13",
   "metadata": {},
   "outputs": [],
   "source": [
    "class agent:\n",
    "    def __init__(self):\n",
    "        pass\n",
    "    def act(self,state):\n",
    "        action=random.choice([\"up\",\"down\"])\n",
    "        return action"
   ]
  },
  {
   "cell_type": "code",
   "execution_count": 21,
   "id": "c965bfdb",
   "metadata": {},
   "outputs": [
    {
     "data": {
      "text/plain": [
       "(6, 0, False)"
      ]
     },
     "execution_count": 21,
     "metadata": {},
     "output_type": "execute_result"
    }
   ],
   "source": [
    "env=enviornment()\n",
    "age=agent()\n",
    "env.state\n",
    "age.act(state)\n",
    "env.step(action)"
   ]
  },
  {
   "cell_type": "code",
   "execution_count": 26,
   "id": "e169de82",
   "metadata": {},
   "outputs": [
    {
     "name": "stdout",
     "output_type": "stream",
     "text": [
      "State: 10 Action: down Next state: 9 Reward: 1 Done: True\n",
      "State: 9 Action: up Next state: 10 Reward: 0 Done: False\n",
      "State: 10 Action: down Next state: 9 Reward: 1 Done: True\n",
      "State: 9 Action: down Next state: 8 Reward: 0 Done: False\n",
      "State: 8 Action: up Next state: 9 Reward: 0 Done: False\n",
      "State: 9 Action: down Next state: 8 Reward: 0 Done: False\n",
      "State: 8 Action: up Next state: 9 Reward: 0 Done: False\n",
      "State: 9 Action: down Next state: 8 Reward: 0 Done: False\n",
      "State: 8 Action: down Next state: 7 Reward: 0 Done: False\n",
      "State: 7 Action: up Next state: 8 Reward: 0 Done: False\n"
     ]
    }
   ],
   "source": [
    "for i in range(10):\n",
    "    state=env.state\n",
    "    action=age.act(state)\n",
    "    next_state,reward,done=env.step(action)\n",
    "    print(\"State:\", state, \"Action:\", action, \"Next state:\", next_state, \"Reward:\", reward, \"Done:\", done)"
   ]
  }
 ],
 "metadata": {
  "kernelspec": {
   "display_name": "Python 3 (ipykernel)",
   "language": "python",
   "name": "python3"
  },
  "language_info": {
   "codemirror_mode": {
    "name": "ipython",
    "version": 3
   },
   "file_extension": ".py",
   "mimetype": "text/x-python",
   "name": "python",
   "nbconvert_exporter": "python",
   "pygments_lexer": "ipython3",
   "version": "3.9.12"
  }
 },
 "nbformat": 4,
 "nbformat_minor": 5
}
