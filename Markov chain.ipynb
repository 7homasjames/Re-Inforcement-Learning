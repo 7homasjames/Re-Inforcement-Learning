{
 "cells": [
  {
   "cell_type": "markdown",
   "id": "ab8c539e",
   "metadata": {},
   "source": [
    "### Importing Packages"
   ]
  },
  {
   "cell_type": "code",
   "execution_count": 2,
   "id": "7acacfc0",
   "metadata": {},
   "outputs": [],
   "source": [
    "import numpy as np\n",
    "import pandas as pd\n",
    "import networkx as nx\n",
    "import matplotlib.pyplot as plt\n",
    "%matplotlib inline"
   ]
  },
  {
   "cell_type": "markdown",
   "id": "dd414ab1",
   "metadata": {},
   "source": [
    "### Create stae space and intial state transition probabilities"
   ]
  },
  {
   "cell_type": "markdown",
   "id": "1afbcfe2",
   "metadata": {},
   "source": [
    "Imagine you have a lazy friend so we define the state space as sleeping, eating, or mobile. We will set the initial probabilities to 35%, 35%, and 30% respectively."
   ]
  },
  {
   "cell_type": "code",
   "execution_count": 11,
   "id": "9327ac1d",
   "metadata": {
    "scrolled": true
   },
   "outputs": [
    {
     "name": "stdout",
     "output_type": "stream",
     "text": [
      "Eating      0.25\n",
      "Sleeping    0.25\n",
      "Mobile      0.30\n",
      "Reading     0.10\n",
      "football    0.10\n",
      "dtype: float64\n",
      "1.0\n"
     ]
    }
   ],
   "source": [
    "states=[\"Eating\",\"Sleeping\",\"Mobile\",\"Reading\",\"football\"]\n",
    "probin=[0.25,0.25,.30,.10,0.10]\n",
    "state_space=pd.Series(probin,index=states)\n",
    "print(state_space)\n",
    "print(state_space.sum())"
   ]
  },
  {
   "cell_type": "markdown",
   "id": "77e387e4",
   "metadata": {},
   "source": [
    "### Creating Transition Probabilities"
   ]
  },
  {
   "cell_type": "code",
   "execution_count": 13,
   "id": "62d2a1bb",
   "metadata": {
    "scrolled": true
   },
   "outputs": [
    {
     "data": {
      "text/html": [
       "<div>\n",
       "<style scoped>\n",
       "    .dataframe tbody tr th:only-of-type {\n",
       "        vertical-align: middle;\n",
       "    }\n",
       "\n",
       "    .dataframe tbody tr th {\n",
       "        vertical-align: top;\n",
       "    }\n",
       "\n",
       "    .dataframe thead th {\n",
       "        text-align: right;\n",
       "    }\n",
       "</style>\n",
       "<table border=\"1\" class=\"dataframe\">\n",
       "  <thead>\n",
       "    <tr style=\"text-align: right;\">\n",
       "      <th></th>\n",
       "      <th>Eating</th>\n",
       "      <th>Sleeping</th>\n",
       "      <th>Mobile</th>\n",
       "      <th>Reading</th>\n",
       "      <th>football</th>\n",
       "    </tr>\n",
       "  </thead>\n",
       "  <tbody>\n",
       "    <tr>\n",
       "      <th>Eating</th>\n",
       "      <td>0.3</td>\n",
       "      <td>0.1</td>\n",
       "      <td>0.1</td>\n",
       "      <td>0.1</td>\n",
       "      <td>0.4</td>\n",
       "    </tr>\n",
       "    <tr>\n",
       "      <th>Sleeping</th>\n",
       "      <td>0.35</td>\n",
       "      <td>0.1</td>\n",
       "      <td>0.35</td>\n",
       "      <td>0.1</td>\n",
       "      <td>0.1</td>\n",
       "    </tr>\n",
       "    <tr>\n",
       "      <th>Mobile</th>\n",
       "      <td>0.35</td>\n",
       "      <td>0.1</td>\n",
       "      <td>0.15</td>\n",
       "      <td>0.3</td>\n",
       "      <td>0.1</td>\n",
       "    </tr>\n",
       "    <tr>\n",
       "      <th>Reading</th>\n",
       "      <td>0.25</td>\n",
       "      <td>0.2</td>\n",
       "      <td>0.15</td>\n",
       "      <td>0.3</td>\n",
       "      <td>0.1</td>\n",
       "    </tr>\n",
       "    <tr>\n",
       "      <th>football</th>\n",
       "      <td>0.15</td>\n",
       "      <td>0.3</td>\n",
       "      <td>0.15</td>\n",
       "      <td>0.3</td>\n",
       "      <td>0.1</td>\n",
       "    </tr>\n",
       "  </tbody>\n",
       "</table>\n",
       "</div>"
      ],
      "text/plain": [
       "         Eating Sleeping Mobile Reading football\n",
       "Eating      0.3      0.1    0.1     0.1      0.4\n",
       "Sleeping   0.35      0.1   0.35     0.1      0.1\n",
       "Mobile     0.35      0.1   0.15     0.3      0.1\n",
       "Reading    0.25      0.2   0.15     0.3      0.1\n",
       "football   0.15      0.3   0.15     0.3      0.1"
      ]
     },
     "execution_count": 13,
     "metadata": {},
     "output_type": "execute_result"
    }
   ],
   "source": [
    "q_df=pd.DataFrame(columns=states,index=states)\n",
    "q_df.loc[states[0]]=[0.3,0.1,0.1,0.1,0.4]\n",
    "q_df.loc[states[1]]=[0.35,0.1,0.35,0.1,0.1]\n",
    "q_df.loc[states[2]]=[0.35,0.1,0.15,0.3,0.1]\n",
    "q_df.loc[states[3]]=[0.25,0.2,0.15,0.3,0.1]\n",
    "q_df.loc[states[4]]=[0.15,0.3,0.15,0.3,0.1]\n",
    "\n",
    "q_df"
   ]
  },
  {
   "cell_type": "code",
   "execution_count": 14,
   "id": "3369f182",
   "metadata": {
    "scrolled": true
   },
   "outputs": [
    {
     "name": "stdout",
     "output_type": "stream",
     "text": [
      "\n",
      " [[0.3 0.1 0.1 0.1 0.4]\n",
      " [0.35 0.1 0.35 0.1 0.1]\n",
      " [0.35 0.1 0.15 0.3 0.1]\n",
      " [0.25 0.2 0.15 0.3 0.1]\n",
      " [0.15 0.3 0.15 0.3 0.1]] \n",
      " (5, 5) \n",
      "\n",
      "Eating      1.0\n",
      "Sleeping    1.0\n",
      "Mobile      1.0\n",
      "Reading     1.0\n",
      "football    1.0\n",
      "dtype: float64\n"
     ]
    }
   ],
   "source": [
    "q = q_df.values\n",
    "print('\\n', q,\"\\n\", q.shape, '\\n')\n",
    "print(q_df.sum(axis=1))"
   ]
  },
  {
   "cell_type": "markdown",
   "id": "fde0c967",
   "metadata": {},
   "source": [
    "### Creating Markov Diagram using networkx package"
   ]
  },
  {
   "cell_type": "markdown",
   "id": "cb4a120a",
   "metadata": {},
   "source": [
    "Possible state=nodes & Edges=Transition Probabilities"
   ]
  },
  {
   "cell_type": "code",
   "execution_count": 15,
   "id": "9dad1115",
   "metadata": {},
   "outputs": [
    {
     "name": "stdout",
     "output_type": "stream",
     "text": [
      "{('Eating', 'Eating'): 0.3, ('Sleeping', 'Eating'): 0.35, ('Mobile', 'Eating'): 0.35, ('Reading', 'Eating'): 0.25, ('football', 'Eating'): 0.15, ('Eating', 'Sleeping'): 0.1, ('Sleeping', 'Sleeping'): 0.1, ('Mobile', 'Sleeping'): 0.1, ('Reading', 'Sleeping'): 0.2, ('football', 'Sleeping'): 0.3, ('Eating', 'Mobile'): 0.1, ('Sleeping', 'Mobile'): 0.35, ('Mobile', 'Mobile'): 0.15, ('Reading', 'Mobile'): 0.15, ('football', 'Mobile'): 0.15, ('Eating', 'Reading'): 0.1, ('Sleeping', 'Reading'): 0.1, ('Mobile', 'Reading'): 0.3, ('Reading', 'Reading'): 0.3, ('football', 'Reading'): 0.3, ('Eating', 'football'): 0.4, ('Sleeping', 'football'): 0.1, ('Mobile', 'football'): 0.1, ('Reading', 'football'): 0.1, ('football', 'football'): 0.1}\n"
     ]
    }
   ],
   "source": [
    "def get_markov_edges(q):\n",
    "    edges={}\n",
    "    for i in q.columns:\n",
    "        for j in q.index:\n",
    "            edges[(j,i)] = q.loc[j,i]\n",
    "    return edges\n",
    "edges_wts=get_markov_edges(q_df)\n",
    "print(edges_wts)\n",
    "            "
   ]
  },
  {
   "cell_type": "markdown",
   "id": "bb42ee11",
   "metadata": {},
   "source": [
    "### Visualizing"
   ]
  },
  {
   "cell_type": "code",
   "execution_count": 16,
   "id": "cfea8203",
   "metadata": {},
   "outputs": [],
   "source": [
    "from pprint import pprint"
   ]
  },
  {
   "cell_type": "code",
   "execution_count": 17,
   "id": "1c5cfa0c",
   "metadata": {
    "scrolled": false
   },
   "outputs": [
    {
     "name": "stdout",
     "output_type": "stream",
     "text": [
      "Nodes:\n",
      "['Eating', 'Sleeping', 'Mobile', 'Reading', 'football']\n",
      "\n"
     ]
    }
   ],
   "source": [
    "G = nx.MultiDiGraph() #Creating graph object\n",
    "\n",
    "# Nodes correspond to state\n",
    "G.add_nodes_from(states)\n",
    "print(f'Nodes:\\n{G.nodes()}\\n')\n",
    "\n"
   ]
  },
  {
   "cell_type": "code",
   "execution_count": 18,
   "id": "582f3315",
   "metadata": {},
   "outputs": [
    {
     "name": "stdout",
     "output_type": "stream",
     "text": [
      "Edges:\n",
      "OutMultiEdgeDataView([('Eating', 'Eating', {'weight': 0.3, 'label': 0.3}), ('Eating', 'Sleeping', {'weight': 0.1, 'label': 0.1}), ('Eating', 'Mobile', {'weight': 0.1, 'label': 0.1}), ('Eating', 'Reading', {'weight': 0.1, 'label': 0.1}), ('Eating', 'football', {'weight': 0.4, 'label': 0.4}), ('Sleeping', 'Eating', {'weight': 0.35, 'label': 0.35}), ('Sleeping', 'Sleeping', {'weight': 0.1, 'label': 0.1}), ('Sleeping', 'Mobile', {'weight': 0.35, 'label': 0.35}), ('Sleeping', 'Reading', {'weight': 0.1, 'label': 0.1}), ('Sleeping', 'football', {'weight': 0.1, 'label': 0.1}), ('Mobile', 'Eating', {'weight': 0.35, 'label': 0.35}), ('Mobile', 'Sleeping', {'weight': 0.1, 'label': 0.1}), ('Mobile', 'Mobile', {'weight': 0.15, 'label': 0.15}), ('Mobile', 'Reading', {'weight': 0.3, 'label': 0.3}), ('Mobile', 'football', {'weight': 0.1, 'label': 0.1}), ('Reading', 'Eating', {'weight': 0.25, 'label': 0.25}), ('Reading', 'Sleeping', {'weight': 0.2, 'label': 0.2}), ('Reading', 'Mobile', {'weight': 0.15, 'label': 0.15}), ('Reading', 'Reading', {'weight': 0.3, 'label': 0.3}), ('Reading', 'football', {'weight': 0.1, 'label': 0.1}), ('football', 'Eating', {'weight': 0.15, 'label': 0.15}), ('football', 'Sleeping', {'weight': 0.3, 'label': 0.3}), ('football', 'Mobile', {'weight': 0.15, 'label': 0.15}), ('football', 'Reading', {'weight': 0.3, 'label': 0.3}), ('football', 'football', {'weight': 0.1, 'label': 0.1})])\n"
     ]
    },
    {
     "data": {
      "image/png": "[encoded data removed]",
      "text/plain": [
       "<Figure size 432x288 with 1 Axes>"
      ]
     },
     "metadata": {},
     "output_type": "display_data"
    }
   ],
   "source": [
    "# edges represent transition probabilities\n",
    "for k, v in edges_wts.items():\n",
    "    tmp_origin, tmp_destination = k[0], k[1]\n",
    "    G.add_edge(tmp_origin, tmp_destination, weight=v, label=v)\n",
    "print(f'Edges:')\n",
    "pprint(G.edges(data=True))    \n",
    "\n",
    "pos = nx.drawing.nx_pydot.graphviz_layout(G, prog='dot')\n",
    "nx.draw_networkx(G, pos)\n",
    "\n",
    "# create edge labels for jupyter plot but is not necessary\n",
    "edge_labels = {(n1,n2):d['label'] for n1,n2,d in G.edges(data=True)}\n",
    "nx.draw_networkx_edge_labels(G , pos, edge_labels=edge_labels)\n",
    "nx.drawing.nx_pydot.write_dot(G, 'pet_dog_markov.dot')"
   ]
  },
  {
   "cell_type": "code",
   "execution_count": null,
   "id": "030f0290",
   "metadata": {},
   "outputs": [],
   "source": []
  }
 ],
 "metadata": {
  "kernelspec": {
   "display_name": "Python 3 (ipykernel)",
   "language": "python",
   "name": "python3"
  },
  "language_info": {
   "codemirror_mode": {
    "name": "ipython",
    "version": 3
   },
   "file_extension": ".py",
   "mimetype": "text/x-python",
   "name": "python",
   "nbconvert_exporter": "python",
   "pygments_lexer": "ipython3",
   "version": "3.9.12"
  }
 },
 "nbformat": 4,
 "nbformat_minor": 5
}
