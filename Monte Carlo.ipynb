{
 "cells": [
  {
   "cell_type": "markdown",
   "id": "286fd9fb",
   "metadata": {},
   "source": [
    "### Import Packages"
   ]
  },
  {
   "cell_type": "code",
   "execution_count": 4,
   "id": "8e47ae6c",
   "metadata": {},
   "outputs": [],
   "source": [
    "import numpy as np\n",
    "import random"
   ]
  },
  {
   "cell_type": "markdown",
   "id": "a951201c",
   "metadata": {},
   "source": [
    "### Monte Carlo"
   ]
  },
  {
   "cell_type": "code",
   "execution_count": 7,
   "id": "206db569",
   "metadata": {},
   "outputs": [],
   "source": [
    "\n",
    "\n",
    "def monte_carlo_policy_evaluation(env, num_episodes, gamma):\n",
    "    # Initialize value function V with zeros for all states\n",
    "    V = np.zeros(env.observation_space.n)\n",
    "\n",
    "    # Initialize empty dictionary to store state returns\n",
    "    returns = {}\n",
    "    \n",
    "    for episode in range(num_episodes):\n",
    "        # Generate an episode following the current policy\n",
    "        episode_states = []\n",
    "        episode_rewards = []\n",
    "        \n",
    "        state = env.reset()\n",
    "        done = False\n",
    "        \n",
    "        while not done:\n",
    "            action = random.choice(range(env.action_space.n))\n",
    "            next_state, reward, done, _ = env.step(action)\n",
    "            \n",
    "            episode_states.append(state)\n",
    "            episode_rewards.append(reward)\n",
    "            \n",
    "            state = next_state\n",
    "        \n",
    "        # Update value function using Monte Carlo method\n",
    "        G = 0  # total return\n",
    "        for t in reversed(range(len(episode_states))):\n",
    "            state = episode_states[t]\n",
    "            reward = episode_rewards[t]\n",
    "            G = gamma * G + reward\n",
    "            \n",
    "            if state not in episode_states[:t]:\n",
    "                if state in returns:\n",
    "                    returns[state].append(G)\n",
    "                else:\n",
    "                    returns[state] = [G]\n",
    "                V[state] = np.mean(returns[state])\n",
    "\n",
    "    return V\n"
   ]
  },
  {
   "cell_type": "code",
   "execution_count": 8,
   "id": "20903ceb",
   "metadata": {},
   "outputs": [
    {
     "name": "stdout",
     "output_type": "stream",
     "text": [
      "Estimated Value Function:\n",
      "State 0: 0.0078944648793757\n",
      "State 1: 0.00453153966813202\n",
      "State 2: 0.010454998545621399\n",
      "State 3: 0.00896216680679798\n",
      "State 4: 0.00982435616075753\n",
      "State 5: 0.0\n",
      "State 6: 0.032044606434241604\n",
      "State 7: 0.0\n",
      "State 8: 0.023840947054415314\n",
      "State 9: 0.05231187469575378\n",
      "State 10: 0.11572921429711924\n",
      "State 11: 0.0\n",
      "State 12: 0.0\n",
      "State 13: 0.11692833452142856\n",
      "State 14: 0.3086344482758621\n",
      "State 15: 0.0\n"
     ]
    }
   ],
   "source": [
    "import gym\n",
    "\n",
    "# Create the environment\n",
    "env = gym.make('FrozenLake-v1')\n",
    "\n",
    "# Set the number of episodes and discount factor\n",
    "num_episodes = 1000\n",
    "gamma = 0.99\n",
    "\n",
    "# Perform Monte Carlo policy evaluation\n",
    "V = monte_carlo_policy_evaluation(env, num_episodes, gamma)\n",
    "\n",
    "# Print the estimated value function\n",
    "print(\"Estimated Value Function:\")\n",
    "for state in range(env.observation_space.n):\n",
    "    print(f\"State {state}: {V[state]}\")\n"
   ]
  }
 ],
 "metadata": {
  "kernelspec": {
   "display_name": "Python 3 (ipykernel)",
   "language": "python",
   "name": "python3"
  },
  "language_info": {
   "codemirror_mode": {
    "name": "ipython",
    "version": 3
   },
   "file_extension": ".py",
   "mimetype": "text/x-python",
   "name": "python",
   "nbconvert_exporter": "python",
   "pygments_lexer": "ipython3",
   "version": "3.9.12"
  }
 },
 "nbformat": 4,
 "nbformat_minor": 5
}
