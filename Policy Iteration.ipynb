{
 "cells": [
  {
   "cell_type": "code",
   "execution_count": 12,
   "id": "fec1773e",
   "metadata": {
    "scrolled": true
   },
   "outputs": [
    {
     "name": "stdout",
     "output_type": "stream",
     "text": [
      "Optimal Policy:\n",
      "[[1. 0. 0. 0.]\n",
      " [0. 0. 0. 1.]\n",
      " [1. 0. 0. 0.]\n",
      " [0. 0. 0. 1.]\n",
      " [1. 0. 0. 0.]\n",
      " [1. 0. 0. 0.]\n",
      " [1. 0. 0. 0.]\n",
      " [1. 0. 0. 0.]\n",
      " [0. 0. 0. 1.]\n",
      " [0. 1. 0. 0.]\n",
      " [1. 0. 0. 0.]\n",
      " [1. 0. 0. 0.]\n",
      " [1. 0. 0. 0.]\n",
      " [0. 0. 1. 0.]\n",
      " [0. 1. 0. 0.]\n",
      " [1. 0. 0. 0.]]\n"
     ]
    }
   ],
   "source": [
    "import gym\n",
    "import numpy as np\n",
    "\n",
    "def policy_iteration(env):\n",
    "    # Initialize a random policy\n",
    "    num_states = env.observation_space.n\n",
    "    num_actions = env.action_space.n\n",
    "    policy = np.zeros((num_states, num_actions))\n",
    "    for state in range(num_states):\n",
    "        best_action = np.random.choice(np.arange(num_actions))\n",
    "        policy[state, best_action] = 1.0\n",
    "\n",
    "\n",
    "    while True:\n",
    "        # Policy evaluation\n",
    "        prev_V = np.zeros(num_states)  # Initialize prev_V\n",
    "        while True:\n",
    "            V = np.zeros(num_states)\n",
    "            for state in range(num_states):\n",
    "                for action, action_prob in enumerate(policy[state]):\n",
    "                    for transition_prob, next_state, reward, _ in env.P[state][action]:\n",
    "                        V[state] += action_prob * transition_prob * (reward + gamma * prev_V[next_state])\n",
    "            # Check for convergence\n",
    "            if np.max(np.abs(V - prev_V)) < 1e-6:\n",
    "                break\n",
    "            prev_V = np.copy(V)\n",
    "\n",
    "        # Policy improvement\n",
    "        policy_stable = True\n",
    "        for state in range(num_states):\n",
    "            old_action = np.argmax(policy[state])\n",
    "            q_values = np.zeros(num_actions)\n",
    "            for action in range(num_actions):\n",
    "                for transition_prob, next_state, reward, _ in env.P[state][action]:\n",
    "                    q_values[action] += transition_prob * (reward + gamma * prev_V[next_state])\n",
    "            best_action = np.argmax(q_values)\n",
    "            if old_action != best_action:\n",
    "                policy_stable = False\n",
    "            policy[state] = np.eye(num_actions)[best_action]\n",
    "\n",
    "        # Check for convergence\n",
    "        if policy_stable:\n",
    "            break\n",
    "\n",
    "    return policy\n",
    "\n",
    "# Create the environment\n",
    "env = gym.make('FrozenLake-v1')\n",
    "gamma = 0.9  # discount factor\n",
    "\n",
    "# Run policy iteration\n",
    "optimal_policy = policy_iteration(env)\n",
    "print(\"Optimal Policy:\")\n",
    "print(optimal_policy)\n"
   ]
  },
  {
   "cell_type": "markdown",
   "id": "a02999c5",
   "metadata": {},
   "source": [
    "### Import Packages"
   ]
  },
  {
   "cell_type": "code",
   "execution_count": 1,
   "id": "bd28ceaf",
   "metadata": {},
   "outputs": [],
   "source": [
    "import numpy as np\n",
    "import gym"
   ]
  },
  {
   "cell_type": "markdown",
   "id": "ecf08583",
   "metadata": {},
   "source": [
    "### Create enviornment"
   ]
  },
  {
   "cell_type": "code",
   "execution_count": 2,
   "id": "713ebea4",
   "metadata": {},
   "outputs": [],
   "source": [
    "env=gym.make(\"FrozenLake-v1\")\n",
    "obs=env.observation_space.n\n",
    "act=env.action_space.n"
   ]
  },
  {
   "cell_type": "markdown",
   "id": "086fe9c8",
   "metadata": {},
   "source": [
    "### Policy Intialization"
   ]
  },
  {
   "cell_type": "code",
   "execution_count": 4,
   "id": "68e59e5c",
   "metadata": {},
   "outputs": [
    {
     "data": {
      "text/plain": [
       "array([[1., 1., 1., 1.],\n",
       "       [1., 1., 1., 1.],\n",
       "       [1., 1., 1., 1.],\n",
       "       [1., 1., 1., 1.],\n",
       "       [1., 1., 1., 1.],\n",
       "       [1., 1., 1., 1.],\n",
       "       [1., 1., 1., 1.],\n",
       "       [1., 1., 1., 1.],\n",
       "       [1., 1., 1., 1.],\n",
       "       [1., 1., 1., 1.],\n",
       "       [1., 1., 1., 1.],\n",
       "       [1., 1., 1., 1.],\n",
       "       [1., 1., 1., 1.],\n",
       "       [1., 1., 1., 1.],\n",
       "       [1., 1., 1., 1.],\n",
       "       [1., 1., 1., 1.]])"
      ]
     },
     "execution_count": 4,
     "metadata": {},
     "output_type": "execute_result"
    }
   ],
   "source": [
    "V=np.zeros(obs)\n",
    "num_states=env.observation_space.n\n",
    "num_actions=env.action_space.n\n",
    "policy=np.ones((num_states,num_actions))\n",
    "for state in range(num_states):\n",
    "    best_action=np.random.choice(np.arange(num_actions))\n",
    "    policy[state,best_action]=1\n",
    "policy\n",
    "    "
   ]
  },
  {
   "cell_type": "markdown",
   "id": "84f47195",
   "metadata": {},
   "source": [
    "### Policy Evaluation"
   ]
  },
  {
   "cell_type": "code",
   "execution_count": 7,
   "id": "68ea3a2d",
   "metadata": {},
   "outputs": [],
   "source": [
    "prev_v=np.zeros(num_states)\n",
    "V=np.zeros(num_states)\n",
    "for state in range(num_states):\n",
    "    for action,action_prob in enumerate(policy[state]):\n",
    "        for trans_prob,nxt_state,reward,done in env.P[state][action]:\n",
    "            V[state]+=trans_prob*action_prob*(reward+gamma*prev_v[nxt_state])\n",
    "                    \n",
    "    if np.max(np.abs(V-prev_v))<1e-6:\n",
    "        break\n",
    "    prev_v=np.copy(V)\n",
    "            "
   ]
  },
  {
   "cell_type": "markdown",
   "id": "af28692c",
   "metadata": {},
   "source": [
    "### Policy Improvement"
   ]
  },
  {
   "cell_type": "code",
   "execution_count": 13,
   "id": "a28e3efd",
   "metadata": {},
   "outputs": [
    {
     "name": "stdout",
     "output_type": "stream",
     "text": [
      "[[1. 0. 0. 0.]\n",
      " [1. 1. 1. 1.]\n",
      " [1. 1. 1. 1.]\n",
      " [1. 1. 1. 1.]\n",
      " [1. 1. 1. 1.]\n",
      " [1. 1. 1. 1.]\n",
      " [1. 1. 1. 1.]\n",
      " [1. 1. 1. 1.]\n",
      " [1. 1. 1. 1.]\n",
      " [1. 1. 1. 1.]\n",
      " [1. 1. 1. 1.]\n",
      " [1. 1. 1. 1.]\n",
      " [1. 1. 1. 1.]\n",
      " [1. 1. 1. 1.]\n",
      " [1. 1. 1. 1.]\n",
      " [1. 1. 1. 1.]]\n"
     ]
    }
   ],
   "source": [
    "policy_stable=True\n",
    "for state in range(num_states):\n",
    "    old_action=np.argmax(policy[state])\n",
    "    q_values=np.zeros(num_actions)\n",
    "    for action in range(num_actions):\n",
    "        for trans_prob,nxt_state,reward,done in env.P[state][action]:\n",
    "            q_values[action] += trans_prob * (reward + gamma * prev_v[nxt_state])\n",
    "    best_action=np.argmax(q_values)   \n",
    "    if old_action != best_action:\n",
    "        policy_stable = False\n",
    "    policy[state] = np.eye(num_actions)[best_action]\n",
    "    \n",
    "    \n",
    "    if policy_stable:\n",
    "        break\n",
    "    \n",
    "print(policy)\n",
    "\n",
    "    "
   ]
  }
 ],
 "metadata": {
  "kernelspec": {
   "display_name": "Python 3 (ipykernel)",
   "language": "python",
   "name": "python3"
  },
  "language_info": {
   "codemirror_mode": {
    "name": "ipython",
    "version": 3
   },
   "file_extension": ".py",
   "mimetype": "text/x-python",
   "name": "python",
   "nbconvert_exporter": "python",
   "pygments_lexer": "ipython3",
   "version": "3.9.12"
  }
 },
 "nbformat": 4,
 "nbformat_minor": 5
}
