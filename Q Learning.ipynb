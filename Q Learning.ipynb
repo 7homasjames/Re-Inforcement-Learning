{
 "cells": [
  {
   "cell_type": "markdown",
   "id": "a1c0f727",
   "metadata": {},
   "source": [
    "### Import Packages"
   ]
  },
  {
   "cell_type": "code",
   "execution_count": 2,
   "id": "e9daf7fc",
   "metadata": {},
   "outputs": [],
   "source": [
    "import numpy as np\n",
    "import random"
   ]
  },
  {
   "cell_type": "markdown",
   "id": "4285e63f",
   "metadata": {},
   "source": [
    "### Define GridWorld"
   ]
  },
  {
   "cell_type": "code",
   "execution_count": 4,
   "id": "5d763e3f",
   "metadata": {},
   "outputs": [],
   "source": [
    "grid=np.array([[-1,-1,-1,-1],\n",
    "              [-1,-1,-1,-1],\n",
    "              [-1,-1,-1,-1],\n",
    "              [-1,-1,-1,-1]])\n",
    "goal=(0,4)\n",
    "obstacles=[(2,2)]\n",
    "num_actions=4\n",
    "actions=[(0,1),(1,0),(-1,0),(0,-1)]\n",
    "learning_rate=0.1\n",
    "discount_factor=0.5"
   ]
  },
  {
   "cell_type": "markdown",
   "id": "8a207965",
   "metadata": {},
   "source": [
    "### Enviornment Actions"
   ]
  },
  {
   "cell_type": "code",
   "execution_count": 3,
   "id": "b5be9c59",
   "metadata": {},
   "outputs": [
    {
     "ename": "NameError",
     "evalue": "name 'grid' is not defined",
     "output_type": "error",
     "traceback": [
      "\u001b[1;31m---------------------------------------------------------------------------\u001b[0m",
      "\u001b[1;31mNameError\u001b[0m                                 Traceback (most recent call last)",
      "Input \u001b[1;32mIn [3]\u001b[0m, in \u001b[0;36m<cell line: 1>\u001b[1;34m()\u001b[0m\n\u001b[1;32m----> 1\u001b[0m q_values\u001b[38;5;241m=\u001b[39mnp\u001b[38;5;241m.\u001b[39mzeros((\u001b[43mgrid\u001b[49m\u001b[38;5;241m.\u001b[39mshape[\u001b[38;5;241m0\u001b[39m],grid\u001b[38;5;241m.\u001b[39mshape[\u001b[38;5;241m1\u001b[39m],num_actions))\n\u001b[0;32m      3\u001b[0m \u001b[38;5;28;01mdef\u001b[39;00m \u001b[38;5;21mget_nxt_reward\u001b[39m(state,action):\n\u001b[0;32m      4\u001b[0m     nxt_state\u001b[38;5;241m=\u001b[39m(state[\u001b[38;5;241m0\u001b[39m]\u001b[38;5;241m+\u001b[39mactions[action][\u001b[38;5;241m0\u001b[39m] , state[\u001b[38;5;241m1\u001b[39m]\u001b[38;5;241m+\u001b[39mactions[action][\u001b[38;5;241m1\u001b[39m])\n",
      "\u001b[1;31mNameError\u001b[0m: name 'grid' is not defined"
     ]
    }
   ],
   "source": [
    "q_values=np.zeros((grid.shape[0],grid.shape[1],num_actions))\n",
    "\n",
    "def get_nxt_reward(state,action):\n",
    "    nxt_state=(state[0]+actions[action][0] , state[1]+actions[action][1])\n",
    "    if nxt_state[0]< 0 or nxt_state[0]>=grid.shape[0] or nxt_state[1]<0 or nxt_state[1]>=grid.shape[1]:\n",
    "        return state,-1\n",
    "    elif nxt_state==goal:\n",
    "        return nxt_state,10\n",
    "    elif nxt_state==obstacles:\n",
    "        return state,-100\n",
    "    return nxt_state,-1\n"
   ]
  },
  {
   "cell_type": "markdown",
   "id": "f17d990d",
   "metadata": {},
   "source": [
    "### Q Learning"
   ]
  },
  {
   "cell_type": "code",
   "execution_count": null,
   "id": "ba055d0e",
   "metadata": {},
   "outputs": [],
   "source": [
    "for episode in range(10):\n",
    "    state=(0,0)\n",
    "    while state != goal:\n",
    "        action=np.argmax(q_values[state[0],state[1],:])\n",
    "        nxt_state,rewards=get_nxt_reward(state,action)\n",
    "        q_values[state[0], state[1], action] += learning_rate * (rewards + discount_factor * np.max(q_values[nxt_state[0], nxt_state[1], :]) - q_values[state[0], state[1], action])\n",
    "        state=nxt_state\n",
    "                                                             \n",
    "print(q_values)"
   ]
  }
 ],
 "metadata": {
  "kernelspec": {
   "display_name": "Python 3 (ipykernel)",
   "language": "python",
   "name": "python3"
  },
  "language_info": {
   "codemirror_mode": {
    "name": "ipython",
    "version": 3
   },
   "file_extension": ".py",
   "mimetype": "text/x-python",
   "name": "python",
   "nbconvert_exporter": "python",
   "pygments_lexer": "ipython3",
   "version": "3.9.12"
  }
 },
 "nbformat": 4,
 "nbformat_minor": 5
}
