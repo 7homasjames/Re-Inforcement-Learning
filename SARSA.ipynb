{
  "cells": [
    {
      "cell_type": "markdown",
      "id": "f94816d3",
      "metadata": {
        "id": "f94816d3"
      },
      "source": [
        "### Importing Packages"
      ]
    },
    {
      "cell_type": "code",
      "execution_count": 1,
      "id": "6f511618",
      "metadata": {
        "id": "6f511618"
      },
      "outputs": [],
      "source": [
        "import random\n"
      ]
    },
    {
      "cell_type": "markdown",
      "id": "710c2dd3",
      "metadata": {
        "id": "710c2dd3"
      },
      "source": [
        "### Define the environment\n"
      ]
    },
    {
      "cell_type": "code",
      "execution_count": 2,
      "id": "123b3101",
      "metadata": {
        "id": "123b3101"
      },
      "outputs": [],
      "source": [
        "n_states = 10\n",
        "n_actions = 2\n",
        "state_space = range(n_states)\n",
        "action_space = range(n_actions)\n"
      ]
    },
    {
      "cell_type": "markdown",
      "id": "9512b7b0",
      "metadata": {
        "id": "9512b7b0"
      },
      "source": [
        "### Initialize Q values\n"
      ]
    },
    {
      "cell_type": "code",
      "execution_count": 3,
      "id": "6206812d",
      "metadata": {
        "id": "6206812d"
      },
      "outputs": [],
      "source": [
        "Q = {}\n",
        "for s in state_space:\n",
        "    for a in action_space:\n",
        "        Q[(s,a)] = 0.0\n",
        ""
      ]
    },
    {
      "cell_type": "markdown",
      "id": "92220cb0",
      "metadata": {
        "id": "92220cb0"
      },
      "source": [
        "### Set hyperparameters\n"
      ]
    },
    {
      "cell_type": "code",
      "execution_count": 4,
      "id": "8f9e9522",
      "metadata": {
        "id": "8f9e9522"
      },
      "outputs": [],
      "source": [
        "alpha = 0.5  # learning rate\n",
        "epsilon = 0.1  # exploration rate\n",
        "gamma = 0.9  # discount factor"
      ]
    },
    {
      "cell_type": "markdown",
      "id": "464be00c",
      "metadata": {
        "id": "464be00c"
      },
      "source": [
        "### Define the SARSA algorithm\n"
      ]
    },
    {
      "cell_type": "code",
      "execution_count": 5,
      "id": "c957ceb7",
      "metadata": {
        "id": "c957ceb7"
      },
      "outputs": [],
      "source": [
        "def sarsa(num_episodes):\n",
        "    for episode in range(num_episodes):\n",
        "        s = random.choice(state_space)  # start in a random state\n",
        "        if random.random() < epsilon:\n",
        "            a = random.choice(action_space)  # choose a random action\n",
        "        else:\n",
        "            # choose the action with the highest Q value\n",
        "            a = max(action_space, key=lambda x: Q[(s,x)])\n",
        "\n",
        "        while True:\n",
        "            # take the chosen action and observe the next state and reward\n",
        "            if a == 0:\n",
        "                r = s\n",
        "                s_next = max(s-1, 0)\n",
        "            else:\n",
        "                r = n_states - s\n",
        "                s_next = min(s+1, n_states-1)\n",
        "\n",
        "            # choose the next action based on epsilon-greedy policy\n",
        "            if random.random() < epsilon:\n",
        "                a_next = random.choice(action_space)\n",
        "            else:\n",
        "                a_next = max(action_space, key=lambda x: Q[(s_next,x)])\n",
        "\n",
        "            # update Q value for current state-action pair\n",
        "            Q[(s,a)] += alpha * (r + gamma*Q[(s_next,a_next)] - Q[(s,a)])\n",
        "\n",
        "            # update state and action\n",
        "            s = s_next\n",
        "            a = a_next\n",
        "\n",
        "            # end the episode when the goal state is reached\n",
        "            if s == n_states-1:\n",
        "                break\n",
        "\n",
        "    return Q\n"
      ]
    },
    {
      "cell_type": "markdown",
      "id": "a757ced4",
      "metadata": {
        "id": "a757ced4"
      },
      "source": [
        "### Run SARSA algorithm\n"
      ]
    },
    {
      "cell_type": "code",
      "execution_count": 6,
      "id": "015b254f",
      "metadata": {
        "id": "015b254f"
      },
      "outputs": [],
      "source": [
        "num_episodes = 1000\n",
        "Q = sarsa(num_episodes)"
      ]
    },
    {
      "cell_type": "markdown",
      "id": "2ea78c2a",
      "metadata": {
        "id": "2ea78c2a"
      },
      "source": [
        "### Print learned Q values\n"
      ]
    },
    {
      "cell_type": "code",
      "execution_count": 7,
      "id": "d4ec75e7",
      "metadata": {
        "colab": {
          "base_uri": "https://localhost:8080/"
        },
        "id": "d4ec75e7",
        "outputId": "d7154aff-e6be-48c7-b5cf-4a90e8c8a205"
      },
      "outputs": [
        {
          "output_type": "stream",
          "name": "stdout",
          "text": [
            "State 0 Q values: [58.865880762761606, 65.89476824333084]\n",
            "State 1 Q values: [60.077313766619596, 61.97680547888258]\n",
            "State 2 Q values: [57.683914727105005, 59.00006780218227]\n",
            "State 3 Q values: [55.79032265275241, 56.70079323530368]\n",
            "State 4 Q values: [55.01438170943484, 55.219267913067796]\n",
            "State 5 Q values: [54.65042745756463, 54.61518002973817]\n",
            "State 6 Q values: [55.226379827516, 54.76086898905501]\n",
            "State 7 Q values: [56.705202308766104, 54.33572621735438]\n",
            "State 8 Q values: [59.021542181953, 56.49051161836125]\n",
            "State 9 Q values: [62.108374365686004, 55.85990417100403]\n"
          ]
        }
      ],
      "source": [
        "for s in state_space:\n",
        "    print(\"State\", s, \"Q values:\", [Q[(s,a)] for a in action_space])"
      ]
    }
  ],
  "metadata": {
    "kernelspec": {
      "display_name": "Python 3 (ipykernel)",
      "language": "python",
      "name": "python3"
    },
    "language_info": {
      "codemirror_mode": {
        "name": "ipython",
        "version": 3
      },
      "file_extension": ".py",
      "mimetype": "text/x-python",
      "name": "python",
      "nbconvert_exporter": "python",
      "pygments_lexer": "ipython3",
      "version": "3.9.12"
    },
    "colab": {
      "provenance": []
    }
  },
  "nbformat": 4,
  "nbformat_minor": 5
}