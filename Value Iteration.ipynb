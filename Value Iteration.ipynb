{
 "cells": [
  {
   "cell_type": "markdown",
   "id": "636b0951",
   "metadata": {},
   "source": [
    "### Import Packages"
   ]
  },
  {
   "cell_type": "code",
   "execution_count": 1,
   "id": "b8cb87c1",
   "metadata": {},
   "outputs": [],
   "source": [
    "import numpy as np\n",
    "import gym"
   ]
  },
  {
   "cell_type": "markdown",
   "id": "7845335b",
   "metadata": {},
   "source": [
    "### Define the enviornment"
   ]
  },
  {
   "cell_type": "code",
   "execution_count": 2,
   "id": "65ab4566",
   "metadata": {
    "scrolled": true
   },
   "outputs": [
    {
     "name": "stdout",
     "output_type": "stream",
     "text": [
      "\n",
      "\u001b[41mS\u001b[0mFFF\n",
      "FHFH\n",
      "FFFH\n",
      "HFFG\n"
     ]
    }
   ],
   "source": [
    "env=gym.make(\"FrozenLake-v1\")\n",
    "obs=env.observation_space.n\n",
    "act=env.action_space.n\n",
    "env.render()\n",
    "env.close()"
   ]
  },
  {
   "cell_type": "markdown",
   "id": "3650dfe2",
   "metadata": {},
   "source": [
    "### Intialize the parameters"
   ]
  },
  {
   "cell_type": "code",
   "execution_count": 3,
   "id": "5f4cb085",
   "metadata": {},
   "outputs": [
    {
     "data": {
      "text/plain": [
       "array([0., 0., 0., 0., 0., 0., 0., 0., 0., 0., 0., 0., 0., 0., 0., 0.])"
      ]
     },
     "execution_count": 3,
     "metadata": {},
     "output_type": "execute_result"
    }
   ],
   "source": [
    "V=np.zeros(env.observation_space.n)\n",
    "gamma=0.7\n",
    "num_iteration=100\n",
    "V"
   ]
  },
  {
   "cell_type": "markdown",
   "id": "b0fa505b",
   "metadata": {},
   "source": [
    "### Value Iteration"
   ]
  },
  {
   "cell_type": "markdown",
   "id": "485b97db",
   "metadata": {},
   "source": [
    "#### To Find Value"
   ]
  },
  {
   "cell_type": "code",
   "execution_count": 15,
   "id": "249913a1",
   "metadata": {},
   "outputs": [
    {
     "name": "stdout",
     "output_type": "stream",
     "text": [
      "Optimal value function:\n",
      "[0.00450392 0.00518766 0.01254125 0.0054868  0.00961093 0.\n",
      " 0.03572016 0.         0.02707485 0.0793493  0.14054515 0.\n",
      " 0.         0.17244841 0.48726691 0.        ]\n"
     ]
    }
   ],
   "source": [
    "V = np.zeros(obs)\n",
    "\n",
    "for i in range(num_iteration):\n",
    "    Q = np.zeros((obs, act))\n",
    "    for s in range(env.observation_space.n):\n",
    "        for a in range(env.action_space.n):\n",
    "            for prob, nxt_state, reward, done in env.P[s][a]:\n",
    "                Q[s][a] += prob * (reward + gamma * V[nxt_state])\n",
    "        V[s] = np.max(Q[s])\n",
    "        \n",
    "        \n",
    "        \n",
    "\n",
    "print(\"Optimal value function:\")\n",
    "print(V)\n",
    "\n",
    "\n"
   ]
  },
  {
   "cell_type": "markdown",
   "id": "5041b7da",
   "metadata": {},
   "source": [
    "#### To find Policy"
   ]
  },
  {
   "cell_type": "code",
   "execution_count": 14,
   "id": "d68e2168",
   "metadata": {},
   "outputs": [
    {
     "name": "stdout",
     "output_type": "stream",
     "text": [
      "Optimal policy:\n",
      "[3. 3. 3. 3. 3. 3. 3. 3. 3. 3. 3. 3. 3. 3. 3. 3.]\n"
     ]
    }
   ],
   "source": [
    "policy=np.zeros(obs)\n",
    "\n",
    "for s in range(obs):\n",
    "    for a in range(act):\n",
    "        for prob,nxt_state,reward,done in env.P[s][a]:\n",
    "            Q[a]+=prob*(reward+gamma*V[nxt_state])\n",
    "    policy[s]=np.argmax(Q[a])\n",
    "    \n",
    "    \n",
    "print(\"Optimal policy:\")\n",
    "print(policy)\n",
    "\n",
    "        \n"
   ]
  }
 ],
 "metadata": {
  "kernelspec": {
   "display_name": "Python 3 (ipykernel)",
   "language": "python",
   "name": "python3"
  },
  "language_info": {
   "codemirror_mode": {
    "name": "ipython",
    "version": 3
   },
   "file_extension": ".py",
   "mimetype": "text/x-python",
   "name": "python",
   "nbconvert_exporter": "python",
   "pygments_lexer": "ipython3",
   "version": "3.9.12"
  }
 },
 "nbformat": 4,
 "nbformat_minor": 5
}
